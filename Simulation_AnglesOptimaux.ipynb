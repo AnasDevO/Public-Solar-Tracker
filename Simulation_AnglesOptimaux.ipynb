{
 "cells": [
  {
   "cell_type": "markdown",
   "metadata": {
    "id": "9kOt1loSqmpn"
   },
   "source": [
    "# Importer les bibliothéques nécessaires et la base de données"
   ]
  },
  {
   "cell_type": "code",
   "metadata": {
    "colab": {
     "base_uri": "https://localhost:8080/"
    },
    "id": "uXw2IcWqX0DU",
    "outputId": "06b07ba2-8d84-4dd4-dbc7-677f610fcbe1"
   },
   "source": [
    "!pip install pvlib"
   ],
   "outputs": [],
   "execution_count": null
  },
  {
   "cell_type": "code",
   "metadata": {
    "id": "B7Kgh6W8VkM6"
   },
   "source": [
    "import pvlib\n",
    "import pandas as pd\n",
    "import numpy as np\n",
    "import seaborn as sns\n",
    "import matplotlib.pyplot as plt"
   ],
   "outputs": [],
   "execution_count": null
  },
  {
   "cell_type": "code",
   "metadata": {
    "colab": {
     "base_uri": "https://localhost:8080/"
    },
    "id": "W5CHVOS_YGZ1",
    "outputId": "78d58f9c-24fe-4603-922a-6f688fb789ae"
   },
   "source": [
    "data = pd.read_csv(\"dataavant.csv\")\n",
    "data.columns"
   ],
   "outputs": [],
   "execution_count": null
  },
  {
   "cell_type": "markdown",
   "metadata": {
    "id": "YpZmfKjlq6GO"
   },
   "source": [
    "## Vocabulaire :\n",
    "* ghi : Irradiance globale horizontale\n",
    "* dni : la composante directe\n",
    "* dhi : la composante diffuse\n",
    "* gti (global titled irradiance ) : Irradiance inclinée globale"
   ]
  },
  {
   "cell_type": "code",
   "metadata": {
    "colab": {
     "base_uri": "https://localhost:8080/"
    },
    "id": "yHrCu63mYNao",
    "outputId": "a25190e4-dd85-479e-b346-6ff3e26633c4"
   },
   "source": [
    "data.shape"
   ],
   "outputs": [],
   "execution_count": null
  },
  {
   "cell_type": "code",
   "metadata": {
    "colab": {
     "base_uri": "https://localhost:8080/",
     "height": 342
    },
    "id": "mT166VmUYS01",
    "outputId": "15357077-e6fd-4a3c-c1fe-4856c0df40c1"
   },
   "source": [
    "data.head()"
   ],
   "outputs": [],
   "execution_count": null
  },
  {
   "cell_type": "code",
   "metadata": {
    "colab": {
     "base_uri": "https://localhost:8080/",
     "height": 349
    },
    "id": "8anv2hy9YgAc",
    "outputId": "ea7d7abb-acaf-433c-a76a-a970d6ae4ee6"
   },
   "source": [
    "data.describe()"
   ],
   "outputs": [],
   "execution_count": null
  },
  {
   "cell_type": "code",
   "metadata": {
    "id": "KWKS5dBGCZel"
   },
   "source": [
    "data = data.drop(columns='snow_depth')"
   ],
   "outputs": [],
   "execution_count": null
  },
  {
   "cell_type": "code",
   "metadata": {
    "id": "NTROKo9MCkAb"
   },
   "source": [
    "data = data.drop(columns='snow_water_equivalent')"
   ],
   "outputs": [],
   "execution_count": null
  },
  {
   "cell_type": "code",
   "metadata": {
    "id": "7ZE9xbG_CoxE"
   },
   "source": [
    "data = data.drop(columns='snow_soiling_rooftop')"
   ],
   "outputs": [],
   "execution_count": null
  },
  {
   "cell_type": "code",
   "metadata": {
    "id": "KPPUzug-Ct5b"
   },
   "source": [
    "data = data.drop(columns='snow_soiling_ground')"
   ],
   "outputs": [],
   "execution_count": null
  },
  {
   "cell_type": "code",
   "metadata": {
    "id": "ra1-uBpWDntd"
   },
   "source": [
    "data = data.iloc[:-1]\n"
   ],
   "outputs": [],
   "execution_count": null
  },
  {
   "cell_type": "code",
   "metadata": {
    "colab": {
     "base_uri": "https://localhost:8080/"
    },
    "id": "7BMv2iaeDqdz",
    "outputId": "cebbef87-4b39-4c79-fef6-eecc650fa853"
   },
   "source": [
    "data.shape"
   ],
   "outputs": [],
   "execution_count": null
  },
  {
   "cell_type": "markdown",
   "metadata": {
    "id": "_eePxSc_q_rU"
   },
   "source": [
    "# Détecter les valeurs Aberrantes\n",
    "## Vérification suivantes sont effectuées :\n",
    "* L’humidité relative (relative_humidity) sont entre 0 et 100 %\n",
    "* Vérifier que wind_speed_10m, wind_speed_100m restent dans des valeurs réalistes (< 60 m/s en général)\n",
    "* Vérifier que température de l'air (air_temp) est dans une plage réaliste selon la localisation.)"
   ]
  },
  {
   "cell_type": "code",
   "metadata": {
    "colab": {
     "base_uri": "https://localhost:8080/",
     "height": 335
    },
    "id": "lYtaaooSYkiN",
    "outputId": "0dcaa155-ebe5-494a-ed16-bfc6c7dca391"
   },
   "source": [
    "data['relative_humidity'].describe()"
   ],
   "outputs": [],
   "execution_count": null
  },
  {
   "cell_type": "code",
   "metadata": {
    "colab": {
     "base_uri": "https://localhost:8080/",
     "height": 335
    },
    "id": "Szf5yAO1YpqM",
    "outputId": "ae3ac401-cc0a-4180-8f92-7f1e2943807c"
   },
   "source": [
    "data['wind_speed_100m'].describe()"
   ],
   "outputs": [],
   "execution_count": null
  },
  {
   "cell_type": "code",
   "metadata": {
    "colab": {
     "base_uri": "https://localhost:8080/",
     "height": 335
    },
    "id": "vTSa6cEKYrp0",
    "outputId": "e7218a03-3a26-456d-d823-b1844a92210f"
   },
   "source": [
    "data[\"wind_speed_10m\"].describe()"
   ],
   "outputs": [],
   "execution_count": null
  },
  {
   "cell_type": "code",
   "metadata": {
    "colab": {
     "base_uri": "https://localhost:8080/",
     "height": 335
    },
    "id": "0Pf0-bGlYurd",
    "outputId": "26b5411f-2b5b-4d8b-f999-fd4b054f2832"
   },
   "source": [
    "data['air_temp'].describe()"
   ],
   "outputs": [],
   "execution_count": null
  },
  {
   "cell_type": "markdown",
   "metadata": {
    "id": "R0eaUVQJrLnh"
   },
   "source": [
    "# Analyse des données\n",
    "## Afficher les valeurs manquantes pour chaque"
   ]
  },
  {
   "cell_type": "code",
   "metadata": {
    "colab": {
     "base_uri": "https://localhost:8080/",
     "height": 836
    },
    "id": "7-g39Qr1Yxyc",
    "outputId": "0c750433-8977-46fa-d44c-5dbc1e3d5eea"
   },
   "source": [
    "data.isnull().sum()"
   ],
   "outputs": [],
   "execution_count": null
  },
  {
   "cell_type": "markdown",
   "metadata": {
    "id": "Wdc1tapjrQCY"
   },
   "source": [
    "## Feature engineering :\n",
    "- Transformer l’heure en **sinusoïdes** (Hour_sin, Hour_cos).      \n",
    "- Ajouter des indicateurs **saisonniers** (mois, jour de l’année).  "
   ]
  },
  {
   "cell_type": "code",
   "metadata": {
    "colab": {
     "base_uri": "https://localhost:8080/"
    },
    "id": "I2idZDVzYz-O",
    "outputId": "a93eb835-8232-42b0-e6df-384720b5204d"
   },
   "source": [
    "# Extraire l'heure, le mois et le jour de l'année\n",
    "data[\"period_end\"] = pd.to_datetime(data[\"period_end\"])\n",
    "data[\"hour\"] = data[\"period_end\"].dt.hour\n",
    "data[\"month\"] = data[\"period_end\"].dt.month\n",
    "data[\"day_of_year\"] = data[\"period_end\"].dt.dayofyear\n",
    "\n",
    "# Transformer l'heure en sinusoïdes\n",
    "data[\"Hour_sin\"] = np.sin(2 * np.pi * data[\"hour\"] / 24)\n",
    "data[\"Hour_cos\"] = np.cos(2 * np.pi * data[\"hour\"] / 24)\n",
    "\n",
    "# Afficher les premières lignes pour vérifier\n",
    "print(data[[\"period_end\", \"hour\", \"Hour_sin\", \"Hour_cos\", \"month\", \"day_of_year\"]].head())"
   ],
   "outputs": [],
   "execution_count": null
  },
  {
   "cell_type": "code",
   "metadata": {
    "colab": {
     "base_uri": "https://localhost:8080/"
    },
    "id": "1WsZfvacHZ2s",
    "outputId": "1eee4617-c08c-4ccb-9fd5-82ce610c43df"
   },
   "source": [
    "# Ajouter une colonne avec une valeur fixe (ex: Latitude et Longitude)\n",
    "data[\"latitude\"] = 32.21047842880794  # Exemple : Paris\n",
    "data[\"longitude\"] = -7.938893140583626  # Exemple : Paris\n",
    "data[\"altitude\"] = 469.3   # Exemple : Altitude en mètres\n",
    "\n",
    "# Ajouter une colonne vide (NaN)\n",
    "data[\"tracker_tilt\"] = None  # Colonne pour stocker l'angle d'inclinaison\n",
    "data[\"tracker_azimuth\"] = None  # Colonne pour l'azimut du tracker\n",
    "\n",
    "# Vérifier les ajouts\n",
    "print(df.head())\n",
    "\n",
    "# Sauvegarder le fichier modifié (si nécessaire)\n",
    "data.to_csv(\"data_updated.csv\", index=False)"
   ],
   "outputs": [],
   "execution_count": null
  },
  {
   "cell_type": "markdown",
   "metadata": {
    "id": "ItNB6NoErVZf"
   },
   "source": [
    "# Utiliser **PVLib** pour calculer les angles optimaux (azimuth, tilt).  \n",
    "* NB : tilt (inclinaison optimale du panneau solaire)"
   ]
  },
  {
   "cell_type": "code",
   "metadata": {
    "colab": {
     "base_uri": "https://localhost:8080/"
    },
    "id": "OPGToDHdIa9p",
    "outputId": "7f84f5b9-dcd8-4359-e817-1b54d38e6442"
   },
   "source": [
    "pip install pvlib pandas numpy matplotlib\n"
   ],
   "outputs": [],
   "execution_count": null
  },
  {
   "cell_type": "code",
   "metadata": {
    "colab": {
     "base_uri": "https://localhost:8080/",
     "height": 723
    },
    "id": "OcLyAZ3AQgKh",
    "outputId": "487cada0-7ce8-4278-af41-6dac4915cf3f"
   },
   "source": [
    "import pandas as pd\n",
    "import numpy as np\n",
    "import pvlib\n",
    "import matplotlib.pyplot as plt\n",
    "\n",
    "# 🔹 1. Charger la base de données\n",
    "df = pd.read_csv(\"data_updated.csv\")\n",
    "\n",
    "# 🔹 2. Définir les coordonnées géographiques\n",
    "latitude = df[\"latitude\"].iloc[0]  # Latitude du site\n",
    "longitude = df[\"longitude\"].iloc[0]  # Longitude du site\n",
    "altitude = df[\"altitude\"].iloc[0]  # Altitude du site\n",
    "\n",
    "# 🔹 3. Convertir les timestamps en format datetime et indexer\n",
    "df[\"period_end\"] = pd.to_datetime(df[\"period_end\"])\n",
    "df = df.set_index(\"period_end\")\n",
    "\n",
    "# 🔹 4. Calculer la position du soleil avec PVLib\n",
    "solpos = pvlib.solarposition.get_solarposition(\n",
    "    time=df.index,\n",
    "    latitude=latitude,\n",
    "    longitude=longitude,\n",
    "    altitude=altitude,\n",
    "    pressure=df[\"surface_pressure\"] * 100,  # Conversion hPa -> Pa\n",
    "    temperature=df[\"air_temp\"]\n",
    ")\n",
    "\n",
    "# Ajouter les colonnes calculées\n",
    "df[\"solar_zenith\"] = solpos[\"zenith\"]\n",
    "df[\"solar_azimuth\"] = solpos[\"azimuth\"]\n",
    "\n",
    "# 🔹 5. Appliquer les angles optimaux pour un tracker à double axes\n",
    "df[\"tracker_tilt\"] = 90 - df[\"solar_zenith\"]  # Inclinaison perpendiculaire au soleil\n",
    "df[\"tracker_azimuth\"] = df[\"solar_azimuth\"]  # Même azimut que le soleil\n",
    "\n",
    "# 🔹 6. Filtrer les données où le soleil est sous l'horizon (éviter valeurs bizarres)\n",
    "df = df[df[\"solar_zenith\"] < 90]\n",
    "\n",
    "# 🔹 7. Afficher un aperçu des résultats\n",
    "print(df[[\"tracker_tilt\", \"tracker_azimuth\"]].describe())\n",
    "\n",
    "# 🔹 8. Visualiser les angles du tracker\n",
    "fig, ax = plt.subplots(2, 1, figsize=(10, 6), sharex=True)\n",
    "\n",
    "ax[0].plot(df.index, df[\"tracker_tilt\"], label=\"Inclinaison du tracker\", color=\"blue\")\n",
    "ax[0].set_ylabel(\"Inclinaison (°)\")\n",
    "ax[0].set_title(\"Évolution des angles du tracker à double axes\")\n",
    "ax[0].grid()\n",
    "ax[0].legend()\n",
    "\n",
    "ax[1].plot(df.index, df[\"tracker_azimuth\"], label=\"Azimut du tracker\", color=\"green\")\n",
    "ax[1].set_ylabel(\"Azimut (°)\")\n",
    "ax[1].set_xlabel(\"Temps\")\n",
    "ax[1].grid()\n",
    "ax[1].legend()\n",
    "\n",
    "plt.show()\n"
   ],
   "outputs": [],
   "execution_count": null
  },
  {
   "cell_type": "code",
   "metadata": {
    "id": "_DXaW48iWgqQ"
   },
   "source": [
    "df.to_csv(\"Solar_Tracking_OptimalesAngles.csv\",index=False)"
   ],
   "outputs": [],
   "execution_count": null
  },
  {
   "cell_type": "markdown",
   "metadata": {
    "id": "qjEkRqF9OQi_"
   },
   "source": [
    "# Vérification des résultats de simulation"
   ]
  },
  {
   "cell_type": "code",
   "metadata": {
    "colab": {
     "base_uri": "https://localhost:8080/",
     "height": 490
    },
    "id": "_jvzvrV4Rk8I",
    "outputId": "2e0fcf60-2d3f-457a-b39a-69d0be4e8b64"
   },
   "source": [
    "import matplotlib.pyplot as plt\n",
    "\n",
    "# Extraire l'heure de la journée\n",
    "df[\"hour\"] = df.index.hour\n",
    "\n",
    "# Moyenne des angles pour chaque heure de la journée\n",
    "hourly_avg = df.groupby(\"hour\")[[\"tracker_tilt\", \"tracker_azimuth\"]].mean()\n",
    "\n",
    "# Tracer les courbes\n",
    "fig, ax1 = plt.subplots(figsize=(10, 5))\n",
    "\n",
    "ax1.plot(hourly_avg.index, hourly_avg[\"tracker_tilt\"], label=\"Inclinaison (tilt)\", color=\"blue\", linewidth=2)\n",
    "ax1.set_ylabel(\"Inclinaison (°)\", color=\"blue\")\n",
    "ax1.tick_params(axis=\"y\", labelcolor=\"blue\")\n",
    "\n",
    "ax2 = ax1.twinx()\n",
    "ax2.plot(hourly_avg.index, hourly_avg[\"tracker_azimuth\"], label=\"Azimut\", color=\"green\", linewidth=2)\n",
    "ax2.set_ylabel(\"Azimut (°)\", color=\"green\")\n",
    "ax2.tick_params(axis=\"y\", labelcolor=\"green\")\n",
    "\n",
    "plt.title(\"Évolution des angles du tracker en fonction de l'heure\")\n",
    "ax1.set_xlabel(\"Heure de la journée\")\n",
    "ax1.set_xticks(range(0, 24, 2))  # Afficher une graduation toutes les 2 heures\n",
    "plt.grid()\n",
    "\n",
    "plt.show()\n"
   ],
   "outputs": [],
   "execution_count": null
  }
 ],
 "metadata": {
  "accelerator": "TPU",
  "colab": {
   "gpuType": "V28",
   "provenance": []
  },
  "kernelspec": {
   "display_name": "Python 3",
   "name": "python3"
  },
  "language_info": {
   "name": "python"
  }
 },
 "nbformat": 4,
 "nbformat_minor": 0
}
